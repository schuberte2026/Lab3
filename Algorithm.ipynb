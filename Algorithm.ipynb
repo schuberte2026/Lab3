{
 "cells": [
  {
   "cell_type": "markdown",
   "metadata": {},
   "source": [
    "# Lab 3: Iterative Algorithm Design\n",
    "## Dominic Zagra, Evan Schubert, Zach Wentz\n"
   ]
  },
  {
   "cell_type": "markdown",
   "metadata": {},
   "source": [
    "### Algorithm Implementation\n",
    "In the cell below, we implement our algorithm to determine if a point is inside a polygon. **<u>We assume that if a point is directly on one of the sides of a polygon then it is considered outside of the polygon.</u>**"
   ]
  },
  {
   "cell_type": "code",
   "execution_count": 1,
   "metadata": {},
   "outputs": [],
   "source": [
    "def point_inside(vertices, classification_point):\n",
    "    \"\"\"\n",
    "    Determines if the classification point is in the polygon. If the classification point is directly on one of the sides of the polygon, then it is considered to be outside of the polygon.\n",
    "        \n",
    "    Parameters:\n",
    "        vertices (Tuple): Vertices of the polygon.\n",
    "        classification_point (Tuple): 2D point to determine if it's in the polygon.\n",
    "    \n",
    "    Returns: Whether the classification point is in the polygon or not (true if it is, false if it is not).\n",
    "    \"\"\"\n",
    "    num_hits = 0\n",
    "    classification_x, classification_y = classification_point\n",
    "\n",
    "    for i in range(len(vertices)):\n",
    "        vertex_X1, vertex_Y1 = vertices[i]\n",
    "        vertex_X2, vertex_Y2 = vertices[(i+1) % len(vertices)]\n",
    "\n",
    "        if (classification_y > min(vertex_Y1, vertex_Y2) and classification_y <= max(vertex_Y1, vertex_Y2)):  \n",
    "            if (vertex_X1 != vertex_X2):\n",
    "                slope = (vertex_Y2 - vertex_Y1) / (vertex_X2 - vertex_X1)\n",
    "                intercept = vertex_Y2 - (slope * vertex_X2)\n",
    "                \n",
    "                on_line_x = (classification_y - intercept) / slope\n",
    "\n",
    "            else:\n",
    "                on_line_x = vertex_X2\n",
    "                \n",
    "            if (on_line_x > classification_x):\n",
    "                    num_hits += 1\n",
    "            \n",
    "    if (num_hits % 2 == 0):\n",
    "        return False\n",
    "    else:\n",
    "        return True"
   ]
  },
  {
   "cell_type": "markdown",
   "metadata": {},
   "source": [
    "In the cell below, we create test cases for our algorithm to ensure it works as intended."
   ]
  },
  {
   "cell_type": "code",
   "execution_count": 2,
   "metadata": {},
   "outputs": [],
   "source": [
    "def test_algo():\n",
    "    # testing for a square, with point outside of it\n",
    "    square_vertices = ((1,1), (1,2), (2,2), (2,1))\n",
    "    classification_point = ((2,3))\n",
    "    assert point_inside(square_vertices, classification_point) == False\n",
    "\n",
    "    # testing for a square, with point inside of it\n",
    "    classification_point_2 = ((1.5, 1.5))\n",
    "    assert point_inside(square_vertices, classification_point_2) == True\n",
    "    \n",
    "    #testing for a triangle, with point outside of it\n",
    "    triangle_vertices = ((1,1), (1.5,2), (2,1))\n",
    "    classification_point_3 = ((1,2))\n",
    "    assert point_inside(triangle_vertices, classification_point_3) == False\n",
    "\n",
    "    #testing for a triangle, with point inside of it\n",
    "    classification_point_4 = ((1.5, 1.5))\n",
    "    assert point_inside(triangle_vertices, classification_point_4) == True\n",
    "\n",
    "    #testing for a triangle, with a point (0,1)\n",
    "    classification_point_5 = ((0,1))\n",
    "    assert point_inside(triangle_vertices, classification_point_5) == False\n",
    "\n",
    "    #test\n",
    "    triangle_vertices = ((1, 1), (1, 3), (2, 2))\n",
    "    classification_point_6 = ((1.5, 2))\n",
    "    assert point_inside(triangle_vertices, classification_point_6) == True\n",
    "\n",
    "    #test point outside upside down pentagon (horizontal line hits lower tip of pentagon)\n",
    "    pentagon_vertices = ((3, 0), (2, 1), (2, 3), (4, 3), (4, 1))\n",
    "    classification_point_7 = ((0, 0))\n",
    "    assert point_inside(pentagon_vertices, classification_point_7) == False\n",
    "\n",
    "    #test point inside complex shape (horizontal line hits one side of the shape)\n",
    "    complex_shape_vertices = ((1, 1), (1, 4), (6, 4), (6, 3), (4, 3), (2, 1))\n",
    "    classification_point_8 = ((3, 3))\n",
    "    assert point_inside(complex_shape_vertices, classification_point_8) == True\n"
   ]
  },
  {
   "cell_type": "markdown",
   "metadata": {},
   "source": [
    "Next, we call the test method defined above to run the tests we created."
   ]
  },
  {
   "cell_type": "code",
   "execution_count": 3,
   "metadata": {},
   "outputs": [],
   "source": [
    "test_algo()"
   ]
  },
  {
   "cell_type": "markdown",
   "metadata": {},
   "source": [
    "## Test Cases"
   ]
  },
  {
   "cell_type": "markdown",
   "metadata": {},
   "source": [
    "\n",
    "| Test Case                               | Expected Answer     | Algo Returned Answer |\n",
    "| ------------------------------------------------ | ------------------- | -------------------- |\n",
    "| <img src=\"TestCase1.png\" width=\"400\" height=\"300\">            | False (Point not in polygon)| False (Point not in polygon)                |\n",
    "| <img src=\"TestCase2.png\" width=\"400\" height=\"300\">            | True (Point in polygon)| True (Point in polygon)                |\n",
    "| <img src=\"TestCase3.png\" width=\"400\" height=\"300\">            | False (Point not in polygon)| False (Point not in polygon)                |\n",
    "| <img src=\"TestCase4.png\" width=\"400\" height=\"300\">            | True (Point in polygon)| True (Point in polygon)                |\n",
    "| <img src=\"TestCase5.png\" width=\"400\" height=\"300\">            | False (Point not in polygon)| False (Point not in polygon)                |\n",
    "| <img src=\"TestCase6.png\" width=\"250\">            | True (Point in polygon)| True (Point in polygon)                |\n",
    "| <img src=\"TestCase7.png\" width=\"400\" height=\"300\">            | False (Point not in polygon)| False (Point not in polygon)                |\n",
    "| <img src=\"TestCase8.png\" width=\"400\" height=\"300\">            | True (Point in polygon)| True (Point in polygon)                |\n",
    "\n"
   ]
  },
  {
   "cell_type": "markdown",
   "metadata": {},
   "source": [
    "## Benchmarking"
   ]
  },
  {
   "cell_type": "markdown",
   "metadata": {},
   "source": [
    "The following cell installs a library needed to generate polygons."
   ]
  },
  {
   "cell_type": "code",
   "execution_count": 4,
   "metadata": {},
   "outputs": [
    {
     "name": "stdout",
     "output_type": "stream",
     "text": [
      "Requirement already satisfied: shapely in c:\\users\\schuberte\\appdata\\local\\anaconda3\\lib\\site-packages (2.0.6)\n",
      "Requirement already satisfied: numpy<3,>=1.14 in c:\\users\\schuberte\\appdata\\local\\anaconda3\\lib\\site-packages (from shapely) (1.26.4)\n",
      "Note: you may need to restart the kernel to use updated packages.\n"
     ]
    }
   ],
   "source": [
    "pip install shapely"
   ]
  },
  {
   "cell_type": "markdown",
   "metadata": {},
   "source": [
    "The following cell contains functions that are needed for benchmarking. It contains functions that specifically generate vertices of a polygon (for n amount of sides), generate the classification point, as well as a function that calculates the time needed to run our algorithm for a polygon with n amonut of vertices."
   ]
  },
  {
   "cell_type": "code",
   "execution_count": 5,
   "metadata": {},
   "outputs": [],
   "source": [
    "from shapely import Point\n",
    "import matplotlib.pyplot as plt\n",
    "from shapely.geometry.polygon import Polygon\n",
    "import time\n",
    "import random\n",
    "\n",
    "def generate_vertices(center_x, center_y, radius, n_sides):\n",
    "    polygon = Point(center_x, center_y).buffer(radius, n_sides)\n",
    "    return list(polygon.exterior.coords)\n",
    "\n",
    "def midpoint(vertex1, vertex2):\n",
    "    return ((vertex1[0] + vertex2[0]) / 2, (vertex1[1] + vertex2[1]) / 2)\n",
    "\n",
    "\n",
    "def generate_classification_point(vertices):\n",
    "    choice = random.choice(['inside', 'outside', 'edge'])\n",
    "    \n",
    "    if choice == 'inside':\n",
    "        return (0,0) #guaranteed to be inside since polygon generated is centered at (0,0)\n",
    "    \n",
    "    elif choice == 'outside':\n",
    "        return (vertices[0][0] + 100 , vertices[0][1] + 100)\n",
    "    \n",
    "    elif choice == 'edge':\n",
    "        return midpoint(vertices[1], vertices[2])\n",
    "\n",
    "def benchmarker(center_x, center_y, radius, n_sides):\n",
    "    vertices = generate_vertices(center_x, center_y, radius, n_sides) #generate n vertices\n",
    "    classification_point = generate_classification_point(vertices)\n",
    "    start_time = time.perf_counter()\n",
    "    point_inside(vertices, classification_point)\n",
    "    end_time = time.perf_counter()\n",
    "\n",
    "    return end_time - start_time\n",
    "\n"
   ]
  },
  {
   "cell_type": "markdown",
   "metadata": {},
   "source": [
    "The following cell runs the algorithm for polygons with sides ranging from 3 to 2000. These numbers were chosen as they resulted in meaningful benchmarking graph."
   ]
  },
  {
   "cell_type": "code",
   "execution_count": 6,
   "metadata": {},
   "outputs": [],
   "source": [
    "times = []\n",
    "center_x, center_y = 0, 0\n",
    "radius = 10\n",
    "\n",
    "times = [benchmarker(center_x, center_y, radius, n) for n in range(3,2001)]"
   ]
  },
  {
   "cell_type": "markdown",
   "metadata": {},
   "source": [
    "The following cell plots the run time of our algorithm againist the number of vertices passed into it."
   ]
  },
  {
   "cell_type": "code",
   "execution_count": 7,
   "metadata": {},
   "outputs": [
    {
     "data": {
      "image/png": "[encoded data removed]",
      "text/plain": [
       "<Figure size 640x480 with 1 Axes>"
      ]
     },
     "metadata": {},
     "output_type": "display_data"
    }
   ],
   "source": [
    "num_vertices = list(range(3,2001))\n",
    "plt.plot(num_vertices, times)\n",
    "plt.xlabel(\"N (# of vertices)\", fontsize=18)\n",
    "plt.ylabel(\"Run Time (s)\", fontsize=18)\n",
    "plt.title(\"Point Inside Algo Runtime\", fontsize=20)\n",
    "plt.ticklabel_format(style='plain')\n",
    "plt.show()"
   ]
  },
  {
   "cell_type": "markdown",
   "metadata": {},
   "source": [
    "## Calculating Linear Regression"
   ]
  },
  {
   "cell_type": "code",
   "execution_count": 9,
   "metadata": {},
   "outputs": [
    {
     "name": "stdout",
     "output_type": "stream",
     "text": [
      "Slope of insertion sort (best case) is: 0.9031200053506632 which is approximately linear.\n"
     ]
    }
   ],
   "source": [
    "from scipy.stats import linregress\n",
    "import numpy as np\n",
    "m1, b1, _, _, _ = linregress(np.log(num_vertices), np.log(times))\n",
    "print(f\"Slope of insertion sort (best case) is: {m1} which is approximately linear.\")"
   ]
  },
  {
   "cell_type": "markdown",
   "metadata": {},
   "source": [
    "| Algo           |Theoretical | Estimated |\n",
    "|----------------|------------|-----------|\n",
    "| Point Inside   | O(n)       | O(n)      |"
   ]
  }
 ],
 "metadata": {
  "kernelspec": {
   "display_name": "base",
   "language": "python",
   "name": "python3"
  },
  "language_info": {
   "codemirror_mode": {
    "name": "ipython",
    "version": 3
   },
   "file_extension": ".py",
   "mimetype": "text/x-python",
   "name": "python",
   "nbconvert_exporter": "python",
   "pygments_lexer": "ipython3",
   "version": "3.12.4"
  }
 },
 "nbformat": 4,
 "nbformat_minor": 2
}
