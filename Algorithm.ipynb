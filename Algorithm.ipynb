{
 "cells": [
  {
   "cell_type": "code",
   "execution_count": null,
   "metadata": {},
   "outputs": [],
   "source": [
    "def point_inside(vertices, classification_point):\n",
    "    \"\"\"Determines if the classification point is in the polygon.\n",
    "        \n",
    "        Parameters:\n",
    "        vertices (Tuple or NumPy.array): Vertices of the polygon.\n",
    "        classification_point (Tuple): 2D point to determine if it's in the polygon.\n",
    "        \n",
    "        Returns:\n",
    "        ret_bool (bool): Whether the classificaiton point is in the polygon or not.\"\"\"\n",
    "    num_hits = 0\n",
    "    ret_bool = True\n",
    "    classification_y = classification_point[1]\n",
    "    classification_x = classification_point[0]\n",
    "\n",
    "    for i in range(len(vertices) + 1):\n",
    "    \n",
    "        vertex_X1, vertex_Y1 = vertices[i]\n",
    "        vertex_X2, vertex_Y2 = vertices[i + 1]\n",
    "\n",
    "        #what if y's on the vertices are equal?\n",
    "        #what happens if the classifiction point is on the line of the polygon, answer: it is out of the polygon\n",
    "        if (classification_point[1] >= min(vertex_Y1, vertex_Y2) and classification_point[1] <= max(vertex_Y1, vertex_Y2)):\n",
    "            slope = (vertex_Y2 - vertex_Y1) / (vertex_X2 - vertex_X1)\n",
    "            b = vertex_Y2 - (slope * vertex_X2)\n",
    "\n",
    "            on_line_x = (classification_y - b) / slope\n",
    "\n",
    "            if (on_line_x > classification_x):\n",
    "                num_hits += 1\n",
    "            \n",
    "\n",
    "    if (num_hits % 2 == 0):\n",
    "        ret_bool == False\n",
    "\n",
    "    return ret_bool\n",
    "\n",
    "\n",
    "\n",
    "\n",
    "\n",
    "             \n",
    "\n",
    "\n",
    "\n",
    "\n"
   ]
  }
 ],
 "metadata": {
  "language_info": {
   "name": "python"
  }
 },
 "nbformat": 4,
 "nbformat_minor": 2
}
