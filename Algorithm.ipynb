{
 "cells": [
  {
   "cell_type": "markdown",
   "metadata": {},
   "source": [
    "# Lab 3: Iterative Algorithm Design\n",
    "## Dominic Zagra, Evan Schubert, Zach Wentz\n"
   ]
  },
  {
   "cell_type": "markdown",
   "metadata": {},
   "source": [
    "### Worst Case Run Time Analysis\n",
    "For this algorithm, our \"n\" (the input that can change in size) is the number of vertices of a shape. "
   ]
  },
  {
   "cell_type": "code",
   "execution_count": 2,
   "metadata": {},
   "outputs": [],
   "source": [
    "def point_inside(vertices, classification_point):\n",
    "    \"\"\"Determines if the classification point is in the polygon.\n",
    "        \n",
    "        Parameters:\n",
    "        vertices (Tuple): Vertices of the polygon.\n",
    "        classification_point (Tuple): 2D point to determine if it's in the polygon.\n",
    "        \n",
    "        Returns:\n",
    "        ret_bool (bool): Whether the classification point is in the polygon or not.\"\"\"\n",
    "    num_hits = 0\n",
    "    classification_x, classification_y = classification_point\n",
    "\n",
    "    for i in range(len(vertices)):\n",
    "        vertex_X1, vertex_Y1 = vertices[i]\n",
    "        vertex_X2, vertex_Y2 = vertices[(i+1) % len(vertices)]\n",
    "\n",
    "        #what if y's on the vertices are equal?\n",
    "        #what happens if the classifiction point is on the line of the polygon, answer: it is out of the polygon\n",
    "        if (classification_y > min(vertex_Y1, vertex_Y2) and classification_y <= max(vertex_Y1, vertex_Y2)):  \n",
    "            if (vertex_X1 != vertex_X2):\n",
    "                slope = (vertex_Y2 - vertex_Y1) / (vertex_X2 - vertex_X1)\n",
    "                intercept = vertex_Y2 - (slope * vertex_X2)\n",
    "                \n",
    "                on_line_x = (classification_y - intercept) / slope\n",
    "\n",
    "            else:\n",
    "                on_line_x = vertex_X2\n",
    "                \n",
    "            if (on_line_x > classification_x):\n",
    "                    num_hits += 1\n",
    "            \n",
    "    print(f\"Number of hits: {num_hits}\")\n",
    "    if (num_hits % 2 == 0):\n",
    "        return False\n",
    "    else:\n",
    "        return True"
   ]
  },
  {
   "cell_type": "code",
   "execution_count": 3,
   "metadata": {},
   "outputs": [],
   "source": [
    "def test_algo():\n",
    "    # testing for a square, with point outside of it\n",
    "    square_vertices = ((1,1), (1,2), (2,2), (2,1))\n",
    "    classification_point = ((2,3))\n",
    "    assert point_inside(square_vertices, classification_point) == False\n",
    "\n",
    "    # testing for a square, with point inside of it\n",
    "    classification_point_2 = ((1.5, 1.5))\n",
    "    assert point_inside(square_vertices, classification_point_2) == True\n",
    "    \n",
    "    #testing for a triangle, with point outside of it\n",
    "    triangle_vertices = ((1,1), (1.5,2), (2,1))\n",
    "    classification_point_3 = ((1,2))\n",
    "    assert point_inside(triangle_vertices, classification_point_3) == False\n",
    "\n",
    "    #testing for a triangle, with point inside of it\n",
    "    classification_point_4 = ((1.5, 1.5))\n",
    "    assert point_inside(triangle_vertices, classification_point_4) == True\n",
    "\n",
    "    #testing for a triangle, with a point (0,1)\n",
    "    classification_point_5 = ((0,1))\n",
    "    assert point_inside(triangle_vertices, classification_point_5) == False\n",
    "\n",
    "    #test\n",
    "    triangle_vertices = ((1, 1), (1, 3), (2, 2))\n",
    "    classification_point_6 = ((1.5, 2))\n",
    "    assert point_inside(triangle_vertices, classification_point_6) == True\n",
    "\n",
    "    #test point outside upside down pentagon (horizontal line hits lower tip of pentagon)\n",
    "    pentagon_vertices = ((3, 0), (2, 1), (2, 3), (4, 3), (4, 1))\n",
    "    classification_point_7 = ((0, 0))\n",
    "    assert point_inside(pentagon_vertices, classification_point_7) == False\n",
    "\n",
    "\n",
    "    shape_vertices = ((1, 1), (1, 4), (6, 4), (6, 3), (4, 3), (2, 1))\n",
    "    classification_point_8 = ((3, 3))\n",
    "    assert point_inside(shape_vertices, classification_point_8) == True\n"
   ]
  },
  {
   "cell_type": "code",
   "execution_count": 4,
   "metadata": {},
   "outputs": [
    {
     "name": "stdout",
     "output_type": "stream",
     "text": [
      "Number of hits: 0\n",
      "Number of hits: 1\n",
      "Number of hits: 2\n",
      "Number of hits: 1\n",
      "Number of hits: 0\n",
      "Number of hits: 1\n",
      "Number of hits: 0\n",
      "Number of hits: 1\n"
     ]
    }
   ],
   "source": [
    "test_algo()"
   ]
  },
  {
   "cell_type": "markdown",
   "metadata": {},
   "source": [
    "## Test Cases"
   ]
  },
  {
   "cell_type": "markdown",
   "metadata": {},
   "source": [
    "\n",
    "| Test Case                               | Expected Answer     | Algo Returned Answer |\n",
    "| ------------------------------------------------ | ------------------- | -------------------- |\n",
    "| <img src=\"TestCase1.png\" width=\"250\" height=\"200\">            | False (Point not in polygon)| False (Point not in polygon)                |\n",
    "| <img src=\"TestCase2.png\" width=\"250\" height=\"200\">            | True (Point in polygon)| True (Point in polygon)                |\n",
    "| <img src=\"TestCase3.png\" width=\"250\" height=\"200\">            | False (Point not in polygon)| False (Point not in polygon)                |\n",
    "| <img src=\"TestCase4.png\" width=\"250\" height=\"200\">            | True (Point in polygon)| True (Point in polygon)                |\n",
    "| <img src=\"TestCase5.png\" width=\"250\" height=\"200\">            | False (Point not in polygon)| False (Point not in polygon)                |\n",
    "| <img src=\"TestCase6.png\" width=\"250\">            | True (Point in polygon)| True (Point in polygon)                |\n",
    "| <img src=\"TestCase7.png\" width=\"250\" height=\"200\">            | False (Point not in polygon)| False (Point not in polygon)                |\n",
    "| <img src=\"TestCase8.png\" width=\"250\" height=\"200\">            | True (Point in polygon)| True (Point in polygon)                |\n",
    "\n"
   ]
  }
 ],
 "metadata": {
  "kernelspec": {
   "display_name": "base",
   "language": "python",
   "name": "python3"
  },
  "language_info": {
   "codemirror_mode": {
    "name": "ipython",
    "version": 3
   },
   "file_extension": ".py",
   "mimetype": "text/x-python",
   "name": "python",
   "nbconvert_exporter": "python",
   "pygments_lexer": "ipython3",
   "version": "3.12.4"
  }
 },
 "nbformat": 4,
 "nbformat_minor": 2
}
